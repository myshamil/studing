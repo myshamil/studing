{
 "cells": [
  {
   "cell_type": "code",
   "execution_count": 113,
   "metadata": {},
   "outputs": [],
   "source": [
    "# font 설정\n",
    "import platform\n",
    "path = \"c:/Windows/Fonts/malgun.ttf\"\n",
    "from matplotlib import font_manager, rc\n",
    "\n",
    "if platform.system() == 'Darwin':\n",
    "    rc('font', family='AppleGothic')\n",
    "elif platform.system() == 'Windows':\n",
    "    font_name = font_manager.FontProperties(fname=path).get_name()\n",
    "    rc('font', family=font_name)\n",
    "else :\n",
    "    print('Unknown system... sorry~')\n",
    "#########################################################################\n",
    "from sklearn.ensemble import RandomForestClassifier\n",
    "from sklearn.ensemble import RandomForestRegressor\n",
    "import matplotlib.pyplot as plt\n",
    "import numpy as np\n",
    "import pandas as pd\n",
    "import matplotlib.pyplot as plt\n",
    "import seaborn as sns\n",
    "from sklearn.ensemble import GradientBoostingClassifier \n",
    "from sklearn.ensemble import GradientBoostingRegressor\n",
    "from sklearn.model_selection import cross_val_score\n",
    "from sklearn.model_selection import RepeatedKFold\n"
   ]
  },
  {
   "cell_type": "markdown",
   "metadata": {},
   "source": [
    "https://injo.tistory.com/31  \n",
    "부스팅 알고리즘  \n",
    "https://bkshin.tistory.com/entry/%EB%A8%B8%EC%8B%A0%EB%9F%AC%EB%8B%9D-15-Gradient-Boost"
   ]
  },
  {
   "cell_type": "code",
   "execution_count": 114,
   "metadata": {},
   "outputs": [],
   "source": [
    "train =  pd.read_csv(\"bike/train.csv\",parse_dates=[\"datetime\"])\n",
    "test = pd.read_csv(\"bike/test.csv\",parse_dates=[\"datetime\"])"
   ]
  },
  {
   "cell_type": "code",
   "execution_count": 115,
   "metadata": {},
   "outputs": [],
   "source": [
    "train['year'] =train['datetime'].dt.year\n",
    "train['month'] =train['datetime'].dt.month\n",
    "train['hour'] =train['datetime'].dt.hour\n",
    "train['dayofweek'] =train['datetime'].dt.dayofweek\n",
    "\n",
    "test['year'] =test['datetime'].dt.year\n",
    "test['month'] =test['datetime'].dt.month\n",
    "test['hour'] =test['datetime'].dt.hour\n",
    "test['dayofweek'] =test['datetime'].dt.dayofweek"
   ]
  },
  {
   "cell_type": "code",
   "execution_count": 116,
   "metadata": {},
   "outputs": [],
   "source": [
    "#이상치 제거\n",
    "train_out =  train[np.abs(train['count']-train['count'].mean())<=(3*train['count'].std())]"
   ]
  },
  {
   "cell_type": "code",
   "execution_count": 117,
   "metadata": {},
   "outputs": [
    {
     "name": "stdout",
     "output_type": "stream",
     "text": [
      "(10886, 16)\n",
      "(10739, 16)\n",
      "(6493, 13)\n"
     ]
    }
   ],
   "source": [
    "print(train.shape)\n",
    "print(train_out.shape)\n",
    "print(test.shape)"
   ]
  },
  {
   "cell_type": "code",
   "execution_count": 121,
   "metadata": {},
   "outputs": [
    {
     "name": "stdout",
     "output_type": "stream",
     "text": [
      "<class 'pandas.core.frame.DataFrame'>\n",
      "Int64Index: 10739 entries, 0 to 10885\n",
      "Data columns (total 16 columns):\n",
      " #   Column      Non-Null Count  Dtype         \n",
      "---  ------      --------------  -----         \n",
      " 0   datetime    10739 non-null  datetime64[ns]\n",
      " 1   season      10739 non-null  int64         \n",
      " 2   holiday     10739 non-null  int64         \n",
      " 3   workingday  10739 non-null  int64         \n",
      " 4   weather     10739 non-null  int64         \n",
      " 5   temp        10739 non-null  float64       \n",
      " 6   atemp       10739 non-null  float64       \n",
      " 7   humidity    10739 non-null  int64         \n",
      " 8   windspeed   10739 non-null  float64       \n",
      " 9   casual      10739 non-null  int64         \n",
      " 10  registered  10739 non-null  int64         \n",
      " 11  count       10739 non-null  int64         \n",
      " 12  year        10739 non-null  int64         \n",
      " 13  month       10739 non-null  int64         \n",
      " 14  hour        10739 non-null  int64         \n",
      " 15  dayofweek   10739 non-null  int64         \n",
      "dtypes: datetime64[ns](1), float64(3), int64(12)\n",
      "memory usage: 1.4 MB\n"
     ]
    }
   ],
   "source": [
    "train_out.info()"
   ]
  },
  {
   "cell_type": "code",
   "execution_count": 81,
   "metadata": {},
   "outputs": [],
   "source": [
    "#windspeed 값 채우기\n",
    "# train =  pd.read_csv(\"bike/train.csv\",parse_dates=[\"datetime\"])\n",
    "# test = pd.read_csv(\"bike/test.csv\",parse_dates=[\"datetime\"])"
   ]
  },
  {
   "cell_type": "code",
   "execution_count": 122,
   "metadata": {},
   "outputs": [],
   "source": [
    "#train, test 합치기\n",
    "data = train_out.append(test)\n",
    "data.reset_index(inplace= True)\n",
    "data.drop('index', inplace=True, axis=1)"
   ]
  },
  {
   "cell_type": "code",
   "execution_count": 123,
   "metadata": {},
   "outputs": [],
   "source": [
    "data['year'] =data['datetime'].dt.year\n",
    "data['month'] =data['datetime'].dt.month\n",
    "data['hour'] =data['datetime'].dt.hour\n",
    "data['dayofweek'] =data['datetime'].dt.dayofweek"
   ]
  },
  {
   "cell_type": "code",
   "execution_count": 84,
   "metadata": {},
   "outputs": [
    {
     "name": "stderr",
     "output_type": "stream",
     "text": [
      "C:\\Users\\shami\\anaconda3\\lib\\site-packages\\ipykernel_launcher.py:10: SettingWithCopyWarning: \n",
      "A value is trying to be set on a copy of a slice from a DataFrame.\n",
      "Try using .loc[row_indexer,col_indexer] = value instead\n",
      "\n",
      "See the caveats in the documentation: https://pandas.pydata.org/pandas-docs/stable/user_guide/indexing.html#returning-a-view-versus-a-copy\n",
      "  # Remove the CWD from sys.path while we load stuff.\n"
     ]
    }
   ],
   "source": [
    "#windspeed 채우기\n",
    "dataWind0 = data[data['windspeed']==0]\n",
    "dataWind1 = data[data['windspeed']!=0]\n",
    "#모델 객체 생성, 사용할 feature(windCol), fit하기 \n",
    "rfModel_wind = RandomForestRegressor()\n",
    "windCol= ['season', 'weather','humidity', 'month', 'year', 'temp','atemp']\n",
    "rfModel_wind.fit(dataWind1[windCol], dataWind1['windspeed'])\n",
    "#예측, 대입 \n",
    "wind0Values = rfModel_wind.predict(X = dataWind0[windCol])\n",
    "dataWind0['windspeed']=wind0Values\n",
    "\n",
    "data = dataWind1.append(dataWind0)\n",
    "data.reset_index(inplace=True)\n",
    "data.drop('index', inplace=True, axis=1)"
   ]
  },
  {
   "cell_type": "code",
   "execution_count": 124,
   "metadata": {},
   "outputs": [],
   "source": [
    "dropFeatures = ['casual',\"count\",\"registered\"]"
   ]
  },
  {
   "cell_type": "code",
   "execution_count": 125,
   "metadata": {},
   "outputs": [],
   "source": [
    "dataTrain = data[pd.notnull(data['count'])].sort_values(by=[\"datetime\"])\n",
    "dataTest = data[~pd.notnull(data['count'])].sort_values(by=[\"datetime\"])\n",
    "datatime_=dataTest[\"datetime\"]"
   ]
  },
  {
   "cell_type": "code",
   "execution_count": 126,
   "metadata": {},
   "outputs": [],
   "source": [
    "label = dataTrain['count']\n",
    "xData = dataTrain.drop(['datetime','casual','registered','count'],axis=1)\n",
    "test = dataTest.drop(['datetime','casual','registered','count'],axis=1)"
   ]
  },
  {
   "cell_type": "code",
   "execution_count": 127,
   "metadata": {},
   "outputs": [],
   "source": [
    "rfModel = GradientBoostingRegressor()\n",
    "cv=RepeatedKFold(n_splits=10, n_repeats=3, random_state=1)\n",
    "n_scores = cross_val_score(rfModel, xData, label, scoring='neg_mean_absolute_error', cv=cv, n_jobs=-1, error_score='raise')\n",
    "rfModel.fit(xData, label)\n",
    "prediction= rfModel.predict(test)"
   ]
  },
  {
   "cell_type": "code",
   "execution_count": 128,
   "metadata": {},
   "outputs": [],
   "source": [
    "res=pd.DataFrame({'datetime':datatime_,'count':prediction})"
   ]
  },
  {
   "cell_type": "code",
   "execution_count": 129,
   "metadata": {},
   "outputs": [],
   "source": [
    "res.loc[res['count']<0, 'count'] = 0"
   ]
  },
  {
   "cell_type": "code",
   "execution_count": 130,
   "metadata": {},
   "outputs": [
    {
     "data": {
      "text/html": [
       "<div>\n",
       "<style scoped>\n",
       "    .dataframe tbody tr th:only-of-type {\n",
       "        vertical-align: middle;\n",
       "    }\n",
       "\n",
       "    .dataframe tbody tr th {\n",
       "        vertical-align: top;\n",
       "    }\n",
       "\n",
       "    .dataframe thead th {\n",
       "        text-align: right;\n",
       "    }\n",
       "</style>\n",
       "<table border=\"1\" class=\"dataframe\">\n",
       "  <thead>\n",
       "    <tr style=\"text-align: right;\">\n",
       "      <th></th>\n",
       "      <th>datetime</th>\n",
       "      <th>count</th>\n",
       "    </tr>\n",
       "  </thead>\n",
       "  <tbody>\n",
       "    <tr>\n",
       "      <th>10739</th>\n",
       "      <td>2011-01-20 00:00:00</td>\n",
       "      <td>2.654379</td>\n",
       "    </tr>\n",
       "    <tr>\n",
       "      <th>10740</th>\n",
       "      <td>2011-01-20 01:00:00</td>\n",
       "      <td>0.000000</td>\n",
       "    </tr>\n",
       "    <tr>\n",
       "      <th>10741</th>\n",
       "      <td>2011-01-20 02:00:00</td>\n",
       "      <td>0.000000</td>\n",
       "    </tr>\n",
       "    <tr>\n",
       "      <th>10742</th>\n",
       "      <td>2011-01-20 03:00:00</td>\n",
       "      <td>0.000000</td>\n",
       "    </tr>\n",
       "    <tr>\n",
       "      <th>10743</th>\n",
       "      <td>2011-01-20 04:00:00</td>\n",
       "      <td>0.000000</td>\n",
       "    </tr>\n",
       "    <tr>\n",
       "      <th>...</th>\n",
       "      <td>...</td>\n",
       "      <td>...</td>\n",
       "    </tr>\n",
       "    <tr>\n",
       "      <th>17227</th>\n",
       "      <td>2012-12-31 19:00:00</td>\n",
       "      <td>315.421826</td>\n",
       "    </tr>\n",
       "    <tr>\n",
       "      <th>17228</th>\n",
       "      <td>2012-12-31 20:00:00</td>\n",
       "      <td>216.462519</td>\n",
       "    </tr>\n",
       "    <tr>\n",
       "      <th>17229</th>\n",
       "      <td>2012-12-31 21:00:00</td>\n",
       "      <td>171.153143</td>\n",
       "    </tr>\n",
       "    <tr>\n",
       "      <th>17230</th>\n",
       "      <td>2012-12-31 22:00:00</td>\n",
       "      <td>131.807433</td>\n",
       "    </tr>\n",
       "    <tr>\n",
       "      <th>17231</th>\n",
       "      <td>2012-12-31 23:00:00</td>\n",
       "      <td>94.310853</td>\n",
       "    </tr>\n",
       "  </tbody>\n",
       "</table>\n",
       "<p>6493 rows × 2 columns</p>\n",
       "</div>"
      ],
      "text/plain": [
       "                 datetime       count\n",
       "10739 2011-01-20 00:00:00    2.654379\n",
       "10740 2011-01-20 01:00:00    0.000000\n",
       "10741 2011-01-20 02:00:00    0.000000\n",
       "10742 2011-01-20 03:00:00    0.000000\n",
       "10743 2011-01-20 04:00:00    0.000000\n",
       "...                   ...         ...\n",
       "17227 2012-12-31 19:00:00  315.421826\n",
       "17228 2012-12-31 20:00:00  216.462519\n",
       "17229 2012-12-31 21:00:00  171.153143\n",
       "17230 2012-12-31 22:00:00  131.807433\n",
       "17231 2012-12-31 23:00:00   94.310853\n",
       "\n",
       "[6493 rows x 2 columns]"
      ]
     },
     "execution_count": 130,
     "metadata": {},
     "output_type": "execute_result"
    }
   ],
   "source": [
    "res"
   ]
  },
  {
   "cell_type": "code",
   "execution_count": null,
   "metadata": {},
   "outputs": [],
   "source": [
    "\n",
    "# rfModel = RandomForestRegressor()\n",
    "# rfModel.fit(xData, label)\n",
    "# prediction = rfModel.predict(test)\n",
    "# # res = pd.DataFrame({'datetime':datetime_,'count':prediction})"
   ]
  },
  {
   "cell_type": "code",
   "execution_count": 131,
   "metadata": {},
   "outputs": [
    {
     "data": {
      "text/html": [
       "<div>\n",
       "<style scoped>\n",
       "    .dataframe tbody tr th:only-of-type {\n",
       "        vertical-align: middle;\n",
       "    }\n",
       "\n",
       "    .dataframe tbody tr th {\n",
       "        vertical-align: top;\n",
       "    }\n",
       "\n",
       "    .dataframe thead th {\n",
       "        text-align: right;\n",
       "    }\n",
       "</style>\n",
       "<table border=\"1\" class=\"dataframe\">\n",
       "  <thead>\n",
       "    <tr style=\"text-align: right;\">\n",
       "      <th></th>\n",
       "      <th>datetime</th>\n",
       "      <th>count</th>\n",
       "    </tr>\n",
       "  </thead>\n",
       "  <tbody>\n",
       "    <tr>\n",
       "      <th>0</th>\n",
       "      <td>2011-01-20 00:00:00</td>\n",
       "      <td>2.654379</td>\n",
       "    </tr>\n",
       "    <tr>\n",
       "      <th>1</th>\n",
       "      <td>2011-01-20 01:00:00</td>\n",
       "      <td>0.000000</td>\n",
       "    </tr>\n",
       "    <tr>\n",
       "      <th>2</th>\n",
       "      <td>2011-01-20 02:00:00</td>\n",
       "      <td>0.000000</td>\n",
       "    </tr>\n",
       "    <tr>\n",
       "      <th>3</th>\n",
       "      <td>2011-01-20 03:00:00</td>\n",
       "      <td>0.000000</td>\n",
       "    </tr>\n",
       "    <tr>\n",
       "      <th>4</th>\n",
       "      <td>2011-01-20 04:00:00</td>\n",
       "      <td>0.000000</td>\n",
       "    </tr>\n",
       "    <tr>\n",
       "      <th>...</th>\n",
       "      <td>...</td>\n",
       "      <td>...</td>\n",
       "    </tr>\n",
       "    <tr>\n",
       "      <th>6488</th>\n",
       "      <td>2012-12-31 19:00:00</td>\n",
       "      <td>315.421826</td>\n",
       "    </tr>\n",
       "    <tr>\n",
       "      <th>6489</th>\n",
       "      <td>2012-12-31 20:00:00</td>\n",
       "      <td>216.462519</td>\n",
       "    </tr>\n",
       "    <tr>\n",
       "      <th>6490</th>\n",
       "      <td>2012-12-31 21:00:00</td>\n",
       "      <td>171.153143</td>\n",
       "    </tr>\n",
       "    <tr>\n",
       "      <th>6491</th>\n",
       "      <td>2012-12-31 22:00:00</td>\n",
       "      <td>131.807433</td>\n",
       "    </tr>\n",
       "    <tr>\n",
       "      <th>6492</th>\n",
       "      <td>2012-12-31 23:00:00</td>\n",
       "      <td>94.310853</td>\n",
       "    </tr>\n",
       "  </tbody>\n",
       "</table>\n",
       "<p>6493 rows × 2 columns</p>\n",
       "</div>"
      ],
      "text/plain": [
       "                 datetime       count\n",
       "0     2011-01-20 00:00:00    2.654379\n",
       "1     2011-01-20 01:00:00    0.000000\n",
       "2     2011-01-20 02:00:00    0.000000\n",
       "3     2011-01-20 03:00:00    0.000000\n",
       "4     2011-01-20 04:00:00    0.000000\n",
       "...                   ...         ...\n",
       "6488  2012-12-31 19:00:00  315.421826\n",
       "6489  2012-12-31 20:00:00  216.462519\n",
       "6490  2012-12-31 21:00:00  171.153143\n",
       "6491  2012-12-31 22:00:00  131.807433\n",
       "6492  2012-12-31 23:00:00   94.310853\n",
       "\n",
       "[6493 rows x 2 columns]"
      ]
     },
     "execution_count": 131,
     "metadata": {},
     "output_type": "execute_result"
    }
   ],
   "source": [
    "res.to_csv(\"result4.csv\",index=False)\n",
    "pd.read_csv(\"result4.csv\")"
   ]
  },
  {
   "cell_type": "markdown",
   "metadata": {},
   "source": [
    "result1 : 수업시간에 했던 내용에 GradientBoostingRegressor()로 마무리  \n",
    "result2 : windspeed도 GBM으로 채움  \n",
    "3: 파라미터 지정"
   ]
  }
 ],
 "metadata": {
  "kernelspec": {
   "display_name": "Python 3",
   "language": "python",
   "name": "python3"
  },
  "language_info": {
   "codemirror_mode": {
    "name": "ipython",
    "version": 3
   },
   "file_extension": ".py",
   "mimetype": "text/x-python",
   "name": "python",
   "nbconvert_exporter": "python",
   "pygments_lexer": "ipython3",
   "version": "3.7.6"
  }
 },
 "nbformat": 4,
 "nbformat_minor": 4
}
